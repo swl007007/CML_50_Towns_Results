{
 "cells": [
  {
   "cell_type": "code",
   "execution_count": 1,
   "metadata": {},
   "outputs": [
    {
     "name": "stdout",
     "output_type": "stream",
     "text": [
      "Note: you may need to restart the kernel to use updated packages.\n"
     ]
    }
   ],
   "source": [
    "# suppress warnings\n",
    "%pip install stata_setup --quiet\n",
    "import stata_setup\n",
    "import sys\n",
    "sys.path.append(r'C:/Program Files/Stata17/utilities')\n"
   ]
  },
  {
   "cell_type": "code",
   "execution_count": 2,
   "metadata": {},
   "outputs": [
    {
     "name": "stdout",
     "output_type": "stream",
     "text": [
      "\n",
      "  ___  ____  ____  ____  ____ ©\n",
      " /__    /   ____/   /   ____/      17.0\n",
      "___/   /   /___/   /   /___/       MP—Parallel Edition\n",
      "\n",
      " Statistics and Data Science       Copyright 1985-2021 StataCorp LLC\n",
      "                                   StataCorp\n",
      "                                   4905 Lakeway Drive\n",
      "                                   College Station, Texas 77845 USA\n",
      "                                   800-STATA-PC        https://www.stata.com\n",
      "                                   979-696-4600        stata@stata.com\n",
      "\n",
      "Stata license: Unlimited-user 4-core network, expiring 31 May 2023\n",
      "Serial number: 501709320052\n",
      "  Licensed to: IFPRI\n",
      "               IFPRI\n",
      "\n",
      "Notes:\n",
      "      1. Unicode is supported; see help unicode_advice.\n",
      "      2. More than 2 billion observations are allowed; see help obs_advice.\n",
      "      3. Maximum number of variables is set to 5,000; see help set_maxvar.\n"
     ]
    }
   ],
   "source": [
    "from pystata import config\n",
    "config.init('mp')"
   ]
  },
  {
   "cell_type": "code",
   "execution_count": 3,
   "metadata": {},
   "outputs": [],
   "source": [
    "import os\n",
    "## read CML survey dta\n",
    "import pandas as pd\n",
    "import datetime\n",
    "prelim = pd.read_stata(r'C:\\Users\\WeilunShi\\Dropbox (IFPRI)\\CML-Ethiopia - team folder\\CML_50_Towns_Results\\Preliminary Survey\\CML  Survey.dta')\n",
    "## read merged dataset\n",
    "response = pd.read_stata(r'C:\\Users\\WeilunShi\\Dropbox (IFPRI)\\CML-Ethiopia - team folder\\CML_50_Towns_Results\\CML_Agg_9_2_to_9_16.dta')\n",
    "\n",
    "response = response.drop(['id_receive','message','id_sent','date_sent','text','time_sent_3'], axis=1)\n",
    "# mod 10\n",
    "response['order'] = response['rec_text_order_town'] % 10\n",
    "# parse date_receive as date\n",
    "response['date_receive'] = pd.to_datetime(response['date_receive'], format='%m/%d')\n",
    "# plus 122 years\n",
    "response['date_receive'] = response['date_receive'] + pd.DateOffset(years=122)\n",
    "\n",
    "# rename date_receive to date\n",
    "response.rename(columns={'date_receive':'date'}, inplace=True)\n",
    "# rename\n",
    "response.rename(columns={'sender':'receiver_id','text_hr':'time_window_type','order':'n_th_message_received_in_day'}, inplace=True)\n",
    "# reorder\n",
    "response = response[['receiver_id','date','time_receive','time_sent','time_window_type','n_th_message_received_in_day','rain','intensity','Zone','Town_name','area_code_woreda','count_message_ind','tot_sent_text_ind','tot_rec_text_ind','tot_miss_text_ind','town_received_text','tot_sent_rec_ind','Longitude','Latitude','POINT_X','POINT_Y']]"
   ]
  },
  {
   "cell_type": "code",
   "execution_count": 4,
   "metadata": {},
   "outputs": [],
   "source": [
    "## generate 9_2 to 9_16\n",
    "# format date as YYYY_MM_DD\n",
    "date = pd.date_range(start='2022-09-02', end='2022-09-16')\n",
    "date = date.strftime('%Y_%m_%d')\n",
    "\n",
    "# create a list of dataframes\n",
    "response_list = []\n",
    "\n",
    "for i in range(2,17):\n",
    "    ## read response data\n",
    "    m = i - 2\n",
    "    file_path = r'C:\\Users\\WeilunShi\\Dropbox (IFPRI)\\CML-Ethiopia - team folder\\CML_50_Towns_Results\\CML_Respondent_output\\\\9_' + str(i) +'\\\\'+date[m]+'_Town.dta'\n",
    "    # skip if file does not exist\n",
    "    if not os.path.exists(file_path):\n",
    "        continue\n",
    "    response_i = pd.read_stata(file_path)\n",
    "    ## filter columns sender and time_receive and perc_\n",
    "    response_i = response_i[['sender','time_receive11','perc_rain_town_11']]\n",
    "    ## rename columns\n",
    "    response_i.rename(columns={'sender':'receiver_id','time_receive11':'time_receive','perc_rain_town_11':'perc_rain'}, inplace=True)\n",
    "    ## add a date column\n",
    "    response_i['date'] = date[m]\n",
    "    ## append to list\n",
    "    response_list.append(response_i)\n",
    "\n",
    "## merge all dates\n",
    "response_concated = pd.concat(response_list, ignore_index=True)\n",
    "\n",
    "## drop if time_receive is missing\n",
    "response_concated = response_concated.dropna(subset=['time_receive'])\n",
    "# reformat date as YYYY-MM-DD\n",
    "response_concated['date'] = pd.to_datetime(response_concated['date'], format='%Y_%m_%d')\n",
    "#format time_receive as int16\n",
    "response_concated['time_receive'] = response_concated['time_receive'].astype('int16')\n",
    "\n",
    "# merge\n",
    "response = pd.merge(response, response_concated, how='left', on=['receiver_id','date','time_receive'])\n",
    "\n"
   ]
  },
  {
   "cell_type": "code",
   "execution_count": 5,
   "metadata": {},
   "outputs": [],
   "source": [
    "prelim = pd.read_stata(r'C:\\Users\\WeilunShi\\Dropbox (IFPRI)\\CML-Ethiopia - team folder\\CML_50_Towns_Results\\Preliminary Survey\\CML  Survey.dta')\n",
    "# filter columns of prelim\n",
    "prelim = prelim[['b1_2','b1_3','b2','b3','b4']]\n",
    "\n",
    "\n",
    "prelim2 = prelim.copy()\n",
    "## drop column\n",
    "prelim2 = prelim2.drop(['b1_2'], axis=1)\n",
    "prelim = prelim.drop(['b1_3'], axis=1)\n",
    "# rename columns\n",
    "prelim.rename(columns={'b1_2':'receiver_id','b2':'age','b3':'gender','b4':'education'}, inplace=True)\n",
    "prelim2.rename(columns={'b1_3':'receiver_id','b2':'age','b3':'gender','b4':'education'}, inplace=True)\n",
    "\n",
    "# remove receiver_id with negative values\n",
    "prelim = prelim[prelim['receiver_id'] > 0]\n",
    "prelim2 = prelim2[prelim2['receiver_id'] > 0]\n",
    "# concat\n",
    "prelim = pd.concat([prelim, prelim2], ignore_index=True)\n",
    "# remove duplictaes \n",
    "prelim = prelim.drop_duplicates(subset=['receiver_id'], keep='first')\n",
    "prelim[['receiver_id']] = prelim[['receiver_id']]+251000000000\n",
    "## convert to float64\n",
    "prelim['receiver_id'] = prelim['receiver_id'].astype('float64')\n",
    "# merge\n",
    "response = pd.merge(response, prelim, how='left', on=['receiver_id'])"
   ]
  },
  {
   "cell_type": "code",
   "execution_count": 6,
   "metadata": {},
   "outputs": [],
   "source": [
    "def parse_time_number(time_number):\n",
    "    time_decimal = time_number / 100\n",
    "    hours = int(time_decimal)\n",
    "    minutes = int((time_decimal - hours) * 100)\n",
    "    return datetime.time(hours, minutes)"
   ]
  },
  {
   "cell_type": "code",
   "execution_count": 7,
   "metadata": {},
   "outputs": [],
   "source": [
    "response['time_receive'] = response['time_receive'].apply(parse_time_number)\n",
    "response['receiver_id'] = response['receiver_id'].astype('int64')\n",
    "response['time_sent'] = response['time_sent'].apply(parse_time_number)\n",
    "response['n_th_message_received_in_day'] = response['n_th_message_received_in_day'].astype('int16')"
   ]
  },
  {
   "cell_type": "code",
   "execution_count": 12,
   "metadata": {},
   "outputs": [],
   "source": [
    "# save response as a utf-8 csv file\n",
    "response.to_csv(r'C:\\Users\\WeilunShi\\Dropbox (IFPRI)\\CML-Ethiopia - team folder\\CML_50_Towns_Results\\CML_Agg_merged.csv', index=False, encoding='utf-8-sig')\n"
   ]
  }
 ],
 "metadata": {
  "kernelspec": {
   "display_name": "Food_Crisis_and_Insecurity-8fC6jjVv",
   "language": "python",
   "name": "python3"
  },
  "language_info": {
   "codemirror_mode": {
    "name": "ipython",
    "version": 3
   },
   "file_extension": ".py",
   "mimetype": "text/x-python",
   "name": "python",
   "nbconvert_exporter": "python",
   "pygments_lexer": "ipython3",
   "version": "3.11.3"
  },
  "orig_nbformat": 4
 },
 "nbformat": 4,
 "nbformat_minor": 2
}
