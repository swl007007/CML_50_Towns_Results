{
 "cells": [
  {
   "cell_type": "code",
   "execution_count": 2,
   "metadata": {},
   "outputs": [
    {
     "name": "stdout",
     "output_type": "stream",
     "text": [
      "Note: you may need to restart the kernel to use updated packages.\n"
     ]
    }
   ],
   "source": [
    "# suppress warnings\n",
    "%pip install stata_setup --quiet\n",
    "import stata_setup\n",
    "import sys\n",
    "sys.path.append(r'C:/Program Files/Stata17/utilities')\n"
   ]
  },
  {
   "cell_type": "code",
   "execution_count": 3,
   "metadata": {},
   "outputs": [
    {
     "name": "stdout",
     "output_type": "stream",
     "text": [
      "\n",
      "  ___  ____  ____  ____  ____ ©\n",
      " /__    /   ____/   /   ____/      17.0\n",
      "___/   /   /___/   /   /___/       MP—Parallel Edition\n",
      "\n",
      " Statistics and Data Science       Copyright 1985-2021 StataCorp LLC\n",
      "                                   StataCorp\n",
      "                                   4905 Lakeway Drive\n",
      "                                   College Station, Texas 77845 USA\n",
      "                                   800-STATA-PC        https://www.stata.com\n",
      "                                   979-696-4600        stata@stata.com\n",
      "\n",
      "Stata license: Unlimited-user 4-core network, expiring 31 May 2023\n",
      "Serial number: 501709320052\n",
      "  Licensed to: IFPRI\n",
      "               IFPRI\n",
      "\n",
      "Notes:\n",
      "      1. Unicode is supported; see help unicode_advice.\n",
      "      2. More than 2 billion observations are allowed; see help obs_advice.\n",
      "      3. Maximum number of variables is set to 5,000; see help set_maxvar.\n"
     ]
    }
   ],
   "source": [
    "from pystata import config\n",
    "config.init('mp')"
   ]
  },
  {
   "cell_type": "code",
   "execution_count": 4,
   "metadata": {},
   "outputs": [],
   "source": [
    "import pandas as pd\n",
    "# read csv file in utf-8 format\n",
    "df = pd.read_csv(r'C:\\Users\\WeilunShi\\Dropbox (IFPRI)\\CML-Ethiopia - team folder\\CML_50_Towns_Results\\CML_Agg_merged.csv', encoding='utf-8')\n"
   ]
  },
  {
   "cell_type": "code",
   "execution_count": 5,
   "metadata": {},
   "outputs": [
    {
     "data": {
      "text/plain": [
       "Index(['receiver_id', 'date', 'time_receive', 'time_sent', 'time_window_type',\n",
       "       'n_th_message_received_in_day', 'rain', 'intensity', 'Zone',\n",
       "       'Town_name', 'area_code_woreda', 'count_message_ind',\n",
       "       'tot_sent_text_ind', 'tot_rec_text_ind', 'tot_miss_text_ind',\n",
       "       'town_received_text', 'tot_sent_rec_ind', 'Longitude', 'Latitude',\n",
       "       'POINT_X', 'POINT_Y', 'perc_rain', 'age', 'gender', 'education'],\n",
       "      dtype='object')"
      ]
     },
     "execution_count": 5,
     "metadata": {},
     "output_type": "execute_result"
    }
   ],
   "source": [
    "df.columns"
   ]
  },
  {
   "cell_type": "code",
   "execution_count": null,
   "metadata": {},
   "outputs": [],
   "source": [
    "#retain only location\n",
    "df = df [['POINT_X', 'POINT_Y']]\n"
   ]
  }
 ],
 "metadata": {
  "kernelspec": {
   "display_name": "Food_Crisis_and_Insecurity-8fC6jjVv",
   "language": "python",
   "name": "python3"
  },
  "language_info": {
   "codemirror_mode": {
    "name": "ipython",
    "version": 3
   },
   "file_extension": ".py",
   "mimetype": "text/x-python",
   "name": "python",
   "nbconvert_exporter": "python",
   "pygments_lexer": "ipython3",
   "version": "3.11.3"
  },
  "orig_nbformat": 4
 },
 "nbformat": 4,
 "nbformat_minor": 2
}
